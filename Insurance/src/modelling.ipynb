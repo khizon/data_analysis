{
 "cells": [
  {
   "cell_type": "code",
   "execution_count": 1,
   "metadata": {},
   "outputs": [
    {
     "name": "stderr",
     "output_type": "stream",
     "text": [
      "/usr/local/lib/python3.11/site-packages/tqdm/auto.py:21: TqdmWarning: IProgress not found. Please update jupyter and ipywidgets. See https://ipywidgets.readthedocs.io/en/stable/user_install.html\n",
      "  from .autonotebook import tqdm as notebook_tqdm\n"
     ]
    },
    {
     "name": "stdout",
     "output_type": "stream",
     "text": [
      "CWD: /data_analysis/Insurance/src\n"
     ]
    },
    {
     "name": "stderr",
     "output_type": "stream",
     "text": [
      "[nltk_data] Downloading package stopwords to /root/nltk_data...\n",
      "[nltk_data]   Package stopwords is already up-to-date!\n"
     ]
    }
   ],
   "source": [
    "import numpy as np\n",
    "import pandas as pd\n",
    "import seaborn as sns\n",
    "import matplotlib.pyplot as plt\n",
    "import sys\n",
    "import os\n",
    "import optuna\n",
    "from sklearn.model_selection import StratifiedKFold\n",
    "from sklearn.metrics import f1_score, roc_auc_score\n",
    "import joblib\n",
    "\n",
    "# Set display options to show all columns\n",
    "pd.set_option('display.max_columns', None)\n",
    "\n",
    "# Set up white-grid plot style\n",
    "sns.set_style(\"whitegrid\")\n",
    "\n",
    "# Optional: Set a color palette (you can choose a different one if you prefer)\n",
    "sns.set_palette(\"deep\")\n",
    "\n",
    "CWD = os.getcwd()\n",
    "print(f'CWD: {CWD}')\n",
    "\n",
    "ROOT = os.path.abspath(os.path.dirname(os.path.dirname(CWD)))\n",
    "sys.path.append(ROOT)\n",
    "\n",
    "from utils.visualization import boxplot_by_category, stacked_barplot_by_category\n",
    "from utils.tuning import instantiate_model\n",
    "from utils.utils import Dataloader"
   ]
  },
  {
   "cell_type": "code",
   "execution_count": 4,
   "metadata": {},
   "outputs": [],
   "source": [
    "PROJ = os.path.dirname(CWD)\n",
    "TRAIN_PATH = [os.path.join(PROJ, 'data', x)  for x in ['train.csv', 'train_orig.csv']]\n",
    "TEST_PATH = os.path.join(PROJ, 'data', 'test.csv')\n",
    "\n",
    "target = 'Response'\n",
    "num_cols = ['Age', 'Annual_Premium', 'Vintage']\n",
    "cat_cols = ['Gender', 'Driving_License', 'Region_Code', 'Previously_Insured', 'Vehicle_Damage', 'Policy_Sales_Channel', 'Vehicle_Age']\n",
    "\n",
    "train = pd.concat([pd.read_csv(PATH, index_col='id') for PATH in TRAIN_PATH]).reset_index(drop=True) \n",
    "test = pd.read_csv(TEST_PATH, index_col = 'id')\n",
    "\n",
    "for col in cat_cols:\n",
    "    train[col], test[col] = train[col].astype('category'), test[col].astype('category')"
   ]
  },
  {
   "cell_type": "code",
   "execution_count": 6,
   "metadata": {},
   "outputs": [
    {
     "name": "stderr",
     "output_type": "stream",
     "text": [
      "[I 2024-07-21 00:12:23,771] A new study created in memory with name: no-name-c73f50bc-afd3-4636-902b-9bf59589d73b\n"
     ]
    }
   ],
   "source": [
    "N_FOLDS = 5\n",
    "def objective(trial):\n",
    "    score = 0\n",
    "    # Call the function to instantiate the model\n",
    "    model = instantiate_model(trial, num_cols, cat_cols, datetime_columns=None, string_columns=None, models=['XGBoost'])\n",
    "\n",
    "    X = train.drop(target, axis=1)\n",
    "    y = train[target]\n",
    "\n",
    "    skf = StratifiedKFold(n_splits=N_FOLDS, shuffle=True, random_state=42)\n",
    "\n",
    "    f1_scores = []\n",
    "\n",
    "    for train_index, val_index in skf.split(X, y):\n",
    "        X_train, X_val = X.iloc[train_index], X.iloc[val_index]\n",
    "        y_train, y_val = y.iloc[train_index], y.iloc[val_index]\n",
    "\n",
    "        # Fit the model\n",
    "        model.fit(X_train, y_train)\n",
    "\n",
    "        # Predict on validation set\n",
    "        y_pred = model.predict_proba(X_val)\n",
    "\n",
    "        # Calculate F1 score\n",
    "        score += roc_auc_score(y_val, y_pred[:, 1])/N_FOLDS\n",
    "\n",
    "    return score\n",
    "\n",
    "# Create a study object and optimize the objective function\n",
    "study = optuna.create_study(direction='maximize')\n",
    "study.optimize(objective, n_trials=30)  # You can adjust the number of trials\n",
    "\n",
    "# Print the best parameters and best value\n",
    "print('Best trial:')\n",
    "trial = study.best_trial\n",
    "print('  Value: ', trial.value)\n",
    "print('  Params: ')\n",
    "for key, value in trial.params.items():\n",
    "    print('    {}: {}'.format(key, value))\n",
    "\n",
    "# You can now use the best parameters to create your final model\n",
    "best_model = instantiate_model(trial, num_cols, cat_cols, datetime_columns=None, string_columns=None)\n",
    "\n",
    "model_filename = os.path.join(PROJ, 'out', 'best_xgb_model.joblib')\n",
    "joblib.dump(best_model, model_filename)"
   ]
  }
 ],
 "metadata": {
  "kernelspec": {
   "display_name": "Python 3",
   "language": "python",
   "name": "python3"
  },
  "language_info": {
   "codemirror_mode": {
    "name": "ipython",
    "version": 3
   },
   "file_extension": ".py",
   "mimetype": "text/x-python",
   "name": "python",
   "nbconvert_exporter": "python",
   "pygments_lexer": "ipython3",
   "version": "3.11.9"
  }
 },
 "nbformat": 4,
 "nbformat_minor": 2
}
