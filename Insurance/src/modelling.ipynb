{
 "cells": [
  {
   "cell_type": "code",
   "execution_count": 1,
   "metadata": {},
   "outputs": [
    {
     "name": "stderr",
     "output_type": "stream",
     "text": [
      "/usr/local/lib/python3.11/site-packages/tqdm/auto.py:21: TqdmWarning: IProgress not found. Please update jupyter and ipywidgets. See https://ipywidgets.readthedocs.io/en/stable/user_install.html\n",
      "  from .autonotebook import tqdm as notebook_tqdm\n"
     ]
    },
    {
     "name": "stdout",
     "output_type": "stream",
     "text": [
      "CWD: /data_analysis/Insurance/src\n"
     ]
    },
    {
     "name": "stderr",
     "output_type": "stream",
     "text": [
      "[nltk_data] Downloading package stopwords to /root/nltk_data...\n",
      "[nltk_data]   Package stopwords is already up-to-date!\n"
     ]
    }
   ],
   "source": [
    "import numpy as np\n",
    "import pandas as pd\n",
    "import seaborn as sns\n",
    "import matplotlib.pyplot as plt\n",
    "import sys\n",
    "import os\n",
    "import optuna\n",
    "from sklearn.model_selection import StratifiedKFold\n",
    "from sklearn.metrics import f1_score, roc_auc_score\n",
    "import joblib\n",
    "\n",
    "# Set display options to show all columns\n",
    "pd.set_option('display.max_columns', None)\n",
    "\n",
    "# Set up white-grid plot style\n",
    "sns.set_style(\"whitegrid\")\n",
    "\n",
    "# Optional: Set a color palette (you can choose a different one if you prefer)\n",
    "sns.set_palette(\"deep\")\n",
    "\n",
    "CWD = os.getcwd()\n",
    "print(f'CWD: {CWD}')\n",
    "\n",
    "ROOT = os.path.abspath(os.path.dirname(os.path.dirname(CWD)))\n",
    "sys.path.append(ROOT)\n",
    "\n",
    "from utils.visualization import boxplot_by_category, stacked_barplot_by_category\n",
    "from utils.tuning import instantiate_model"
   ]
  },
  {
   "cell_type": "code",
   "execution_count": 2,
   "metadata": {},
   "outputs": [],
   "source": [
    "PROJ = os.path.dirname(CWD)\n",
    "TRAIN_PATH = os.path.join(PROJ, 'data', 'train.csv')\n",
    "TEST_PATH = os.path.join(PROJ, 'data', 'test.csv')\n",
    "\n",
    "train = pd.read_csv(TRAIN_PATH, low_memory=False, na_values='?', index_col='id')\n",
    "test = pd.read_csv(TEST_PATH, low_memory=False, na_values='?', index_col='id')\n",
    "\n",
    "target = 'Response'\n",
    "num_cols = ['Age', 'Annual_Premium', 'Vintage']\n",
    "cat_cols = ['Gender', 'Driving_License', 'Region_Code', 'Previously_Insured', 'Vehicle_Damage', 'Policy_Sales_Channel', 'Vehicle_Age']\n",
    "\n",
    "train[cat_cols] = train[cat_cols].astype('category')\n",
    "test[cat_cols] = test[cat_cols].astype('category')\n",
    "\n",
    "# train = train.sample(1000)"
   ]
  },
  {
   "cell_type": "code",
   "execution_count": 3,
   "metadata": {},
   "outputs": [
    {
     "name": "stderr",
     "output_type": "stream",
     "text": [
      "[I 2024-07-20 11:41:06,855] A new study created in memory with name: no-name-5bdd5f1e-6978-4bbb-874f-c33068e027f5\n",
      "[I 2024-07-20 11:44:26,331] Trial 0 finished with value: 0.8479752374689987 and parameters: {'numerical_strategy': 'most_frequent', 'with_centering': False, 'with_scaling': False, 'categorical_strategy': 'constant', 'smoothing': 76.10029868156795, 'min_samples_leaf': 32, 'clf': 'XGBoost', 'xgb_max_depth': 4, 'xgb_learning_rate': 0.13084903534841466, 'xgb_n_estimators': 676, 'xgb_min_child_weight': 6, 'xgb_subsample': 0.5896428971730541, 'xgb_colsample_bytree': 0.9109517251964876, 'xgb_reg_alpha': 6.487386653800083, 'xgb_reg_lambda': 5.348713952413967, 'percentile': 53}. Best is trial 0 with value: 0.8479752374689987.\n",
      "[I 2024-07-20 11:47:17,444] Trial 1 finished with value: 0.7738560441623157 and parameters: {'numerical_strategy': 'mean', 'with_centering': True, 'with_scaling': False, 'categorical_strategy': 'most_frequent', 'smoothing': 67.5998044036548, 'min_samples_leaf': 46, 'clf': 'Catboost', 'cat_iterations': 93, 'cat_learning_rate': 0.22822654622911945, 'cat_depth': 10, 'cat_l2_leaf_reg': 6, 'cat_border_count': 11, 'percentile': 9}. Best is trial 0 with value: 0.8479752374689987.\n",
      "[I 2024-07-20 11:52:19,267] Trial 2 finished with value: 0.8353236646329399 and parameters: {'numerical_strategy': 'median', 'with_centering': True, 'with_scaling': True, 'categorical_strategy': 'most_frequent', 'smoothing': 72.4798376216177, 'min_samples_leaf': 15, 'clf': 'Catboost', 'cat_iterations': 867, 'cat_learning_rate': 0.2083754051876325, 'cat_depth': 5, 'cat_l2_leaf_reg': 4, 'cat_border_count': 239, 'percentile': 32}. Best is trial 0 with value: 0.8479752374689987.\n",
      "[I 2024-07-20 11:56:11,314] Trial 3 finished with value: 0.8643204206977784 and parameters: {'numerical_strategy': 'mean', 'with_centering': True, 'with_scaling': False, 'categorical_strategy': 'most_frequent', 'smoothing': 44.062598481783105, 'min_samples_leaf': 27, 'clf': 'XGBoost', 'xgb_max_depth': 7, 'xgb_learning_rate': 0.08649169370185317, 'xgb_n_estimators': 625, 'xgb_min_child_weight': 2, 'xgb_subsample': 0.5984513193577923, 'xgb_colsample_bytree': 0.7265134196844816, 'xgb_reg_alpha': 1.2483103405110427, 'xgb_reg_lambda': 4.100706145959813, 'percentile': 61}. Best is trial 3 with value: 0.8643204206977784.\n",
      "[I 2024-07-20 12:00:18,616] Trial 4 finished with value: 0.8627506889425436 and parameters: {'numerical_strategy': 'constant', 'with_centering': False, 'with_scaling': True, 'categorical_strategy': 'most_frequent', 'smoothing': 74.31242473301987, 'min_samples_leaf': 19, 'clf': 'Catboost', 'cat_iterations': 926, 'cat_learning_rate': 0.26628887505377696, 'cat_depth': 2, 'cat_l2_leaf_reg': 9, 'cat_border_count': 254, 'percentile': 59}. Best is trial 3 with value: 0.8643204206977784.\n",
      "[I 2024-07-20 12:03:54,034] Trial 5 finished with value: 0.8640267161389792 and parameters: {'numerical_strategy': 'constant', 'with_centering': True, 'with_scaling': True, 'categorical_strategy': 'constant', 'smoothing': 15.401783431544988, 'min_samples_leaf': 14, 'clf': 'XGBoost', 'xgb_max_depth': 3, 'xgb_learning_rate': 0.15165393666100208, 'xgb_n_estimators': 844, 'xgb_min_child_weight': 4, 'xgb_subsample': 0.7568724187950506, 'xgb_colsample_bytree': 0.9328189946142313, 'xgb_reg_alpha': 7.616453251495582, 'xgb_reg_lambda': 1.669726094271342, 'percentile': 74}. Best is trial 3 with value: 0.8643204206977784.\n",
      "[I 2024-07-20 12:07:30,674] Trial 6 finished with value: 0.7913671006039911 and parameters: {'numerical_strategy': 'constant', 'with_centering': True, 'with_scaling': False, 'categorical_strategy': 'constant', 'smoothing': 87.6296025347858, 'min_samples_leaf': 48, 'clf': 'Catboost', 'cat_iterations': 429, 'cat_learning_rate': 0.25888741915824837, 'cat_depth': 7, 'cat_l2_leaf_reg': 13, 'cat_border_count': 157, 'percentile': 15}. Best is trial 3 with value: 0.8643204206977784.\n",
      "[I 2024-07-20 12:10:35,957] Trial 7 finished with value: 0.8349741145174304 and parameters: {'numerical_strategy': 'most_frequent', 'with_centering': True, 'with_scaling': True, 'categorical_strategy': 'constant', 'smoothing': 18.975244278722126, 'min_samples_leaf': 34, 'clf': 'XGBoost', 'xgb_max_depth': 8, 'xgb_learning_rate': 0.03951728401605859, 'xgb_n_estimators': 572, 'xgb_min_child_weight': 4, 'xgb_subsample': 0.7077285650401945, 'xgb_colsample_bytree': 0.5856349465924263, 'xgb_reg_alpha': 9.911521588106687, 'xgb_reg_lambda': 9.610613660452811, 'percentile': 32}. Best is trial 3 with value: 0.8643204206977784.\n",
      "[I 2024-07-20 12:14:05,950] Trial 8 finished with value: 0.8677856313554018 and parameters: {'numerical_strategy': 'mean', 'with_centering': False, 'with_scaling': True, 'categorical_strategy': 'constant', 'smoothing': 68.97943475410239, 'min_samples_leaf': 6, 'clf': 'XGBoost', 'xgb_max_depth': 7, 'xgb_learning_rate': 0.2902594718238716, 'xgb_n_estimators': 449, 'xgb_min_child_weight': 3, 'xgb_subsample': 0.9214129383053875, 'xgb_colsample_bytree': 0.9253409821897698, 'xgb_reg_alpha': 5.766739019410096, 'xgb_reg_lambda': 4.185897704386985, 'percentile': 84}. Best is trial 8 with value: 0.8677856313554018.\n",
      "[I 2024-07-20 12:17:32,875] Trial 9 finished with value: 0.7913671006039911 and parameters: {'numerical_strategy': 'mean', 'with_centering': True, 'with_scaling': True, 'categorical_strategy': 'constant', 'smoothing': 50.707102637735616, 'min_samples_leaf': 36, 'clf': 'Catboost', 'cat_iterations': 438, 'cat_learning_rate': 0.1868146586502704, 'cat_depth': 5, 'cat_l2_leaf_reg': 30, 'cat_border_count': 165, 'percentile': 21}. Best is trial 8 with value: 0.8677856313554018.\n",
      "[I 2024-07-20 12:20:41,794] Trial 10 finished with value: 0.8797934142288626 and parameters: {'numerical_strategy': 'median', 'with_centering': False, 'with_scaling': True, 'categorical_strategy': 'constant', 'smoothing': 97.9847036423725, 'min_samples_leaf': 3, 'clf': 'XGBoost', 'xgb_max_depth': 10, 'xgb_learning_rate': 0.29465302723648495, 'xgb_n_estimators': 116, 'xgb_min_child_weight': 10, 'xgb_subsample': 0.9785173187631399, 'xgb_colsample_bytree': 0.9916703309352572, 'xgb_reg_alpha': 3.2238290004780303, 'xgb_reg_lambda': 6.3748891826543606, 'percentile': 100}. Best is trial 10 with value: 0.8797934142288626.\n",
      "[I 2024-07-20 12:23:32,046] Trial 11 finished with value: 0.8786797665526784 and parameters: {'numerical_strategy': 'median', 'with_centering': False, 'with_scaling': True, 'categorical_strategy': 'constant', 'smoothing': 97.24025226470374, 'min_samples_leaf': 1, 'clf': 'XGBoost', 'xgb_max_depth': 10, 'xgb_learning_rate': 0.2891699885207347, 'xgb_n_estimators': 50, 'xgb_min_child_weight': 10, 'xgb_subsample': 0.9927148482994712, 'xgb_colsample_bytree': 0.9823756343828827, 'xgb_reg_alpha': 3.087746702260746, 'xgb_reg_lambda': 6.10125511630562, 'percentile': 97}. Best is trial 10 with value: 0.8797934142288626.\n",
      "[I 2024-07-20 12:26:24,503] Trial 12 finished with value: 0.8791146291984795 and parameters: {'numerical_strategy': 'median', 'with_centering': False, 'with_scaling': True, 'categorical_strategy': 'constant', 'smoothing': 99.45433719255665, 'min_samples_leaf': 1, 'clf': 'XGBoost', 'xgb_max_depth': 10, 'xgb_learning_rate': 0.2995173002041888, 'xgb_n_estimators': 60, 'xgb_min_child_weight': 10, 'xgb_subsample': 0.9990563009356227, 'xgb_colsample_bytree': 0.985688711576403, 'xgb_reg_alpha': 2.550984162836157, 'xgb_reg_lambda': 7.314098741923445, 'percentile': 98}. Best is trial 10 with value: 0.8797934142288626.\n",
      "[I 2024-07-20 12:29:23,587] Trial 13 finished with value: 0.8796006856808005 and parameters: {'numerical_strategy': 'median', 'with_centering': False, 'with_scaling': True, 'categorical_strategy': 'constant', 'smoothing': 97.48127402640867, 'min_samples_leaf': 5, 'clf': 'XGBoost', 'xgb_max_depth': 10, 'xgb_learning_rate': 0.2294301738993887, 'xgb_n_estimators': 101, 'xgb_min_child_weight': 10, 'xgb_subsample': 0.8812325901548577, 'xgb_colsample_bytree': 0.7960246330449647, 'xgb_reg_alpha': 2.694017883503853, 'xgb_reg_lambda': 8.076129126208462, 'percentile': 99}. Best is trial 10 with value: 0.8797934142288626.\n",
      "[I 2024-07-20 12:32:45,683] Trial 14 finished with value: 0.8678292114321542 and parameters: {'numerical_strategy': 'median', 'with_centering': False, 'with_scaling': True, 'categorical_strategy': 'constant', 'smoothing': 48.70346430296807, 'min_samples_leaf': 9, 'clf': 'XGBoost', 'xgb_max_depth': 9, 'xgb_learning_rate': 0.2196595953644824, 'xgb_n_estimators': 277, 'xgb_min_child_weight': 8, 'xgb_subsample': 0.8476729976670729, 'xgb_colsample_bytree': 0.7940029464559306, 'xgb_reg_alpha': 3.548383459104005, 'xgb_reg_lambda': 8.688383243801184, 'percentile': 82}. Best is trial 10 with value: 0.8797934142288626.\n",
      "[I 2024-07-20 12:35:48,574] Trial 15 finished with value: 0.8644377939989263 and parameters: {'numerical_strategy': 'median', 'with_centering': False, 'with_scaling': True, 'categorical_strategy': 'constant', 'smoothing': 87.66489190435445, 'min_samples_leaf': 21, 'clf': 'XGBoost', 'xgb_max_depth': 5, 'xgb_learning_rate': 0.23023604579110005, 'xgb_n_estimators': 291, 'xgb_min_child_weight': 8, 'xgb_subsample': 0.8593242007302144, 'xgb_colsample_bytree': 0.7958534300303708, 'xgb_reg_alpha': 0.16150083288685035, 'xgb_reg_lambda': 7.404140362433677, 'percentile': 73}. Best is trial 10 with value: 0.8797934142288626.\n",
      "[I 2024-07-20 12:39:12,701] Trial 16 finished with value: 0.8803304472809701 and parameters: {'numerical_strategy': 'median', 'with_centering': False, 'with_scaling': True, 'categorical_strategy': 'constant', 'smoothing': 4.942978872736205, 'min_samples_leaf': 7, 'clf': 'XGBoost', 'xgb_max_depth': 10, 'xgb_learning_rate': 0.2203166218484603, 'xgb_n_estimators': 235, 'xgb_min_child_weight': 8, 'xgb_subsample': 0.851605559932642, 'xgb_colsample_bytree': 0.628630003762289, 'xgb_reg_alpha': 4.309315843046691, 'xgb_reg_lambda': 7.722144458609161, 'percentile': 90}. Best is trial 16 with value: 0.8803304472809701.\n",
      "[I 2024-07-20 12:42:35,060] Trial 17 finished with value: 0.8678475777951049 and parameters: {'numerical_strategy': 'median', 'with_centering': False, 'with_scaling': True, 'categorical_strategy': 'constant', 'smoothing': 3.3607247794949195, 'min_samples_leaf': 12, 'clf': 'XGBoost', 'xgb_max_depth': 8, 'xgb_learning_rate': 0.19682162334162673, 'xgb_n_estimators': 301, 'xgb_min_child_weight': 8, 'xgb_subsample': 0.7541780113799893, 'xgb_colsample_bytree': 0.559426995301942, 'xgb_reg_alpha': 4.899773810451276, 'xgb_reg_lambda': 1.7911246392211888, 'percentile': 86}. Best is trial 16 with value: 0.8803304472809701.\n",
      "[I 2024-07-20 12:45:27,997] Trial 18 finished with value: 0.8367556272392302 and parameters: {'numerical_strategy': 'median', 'with_centering': False, 'with_scaling': False, 'categorical_strategy': 'most_frequent', 'smoothing': 30.013772809609208, 'min_samples_leaf': 22, 'clf': 'XGBoost', 'xgb_max_depth': 2, 'xgb_learning_rate': 0.2535148350454082, 'xgb_n_estimators': 242, 'xgb_min_child_weight': 7, 'xgb_subsample': 0.9210092484556527, 'xgb_colsample_bytree': 0.6425003697031805, 'xgb_reg_alpha': 5.1997595573550734, 'xgb_reg_lambda': 6.412055519405443, 'percentile': 39}. Best is trial 16 with value: 0.8803304472809701.\n",
      "[I 2024-07-20 12:48:38,464] Trial 19 finished with value: 0.8645675336688927 and parameters: {'numerical_strategy': 'most_frequent', 'with_centering': False, 'with_scaling': True, 'categorical_strategy': 'constant', 'smoothing': 57.07749879680254, 'min_samples_leaf': 7, 'clf': 'XGBoost', 'xgb_max_depth': 6, 'xgb_learning_rate': 0.18619413289939807, 'xgb_n_estimators': 388, 'xgb_min_child_weight': 9, 'xgb_subsample': 0.7991328887140488, 'xgb_colsample_bytree': 0.662805429385069, 'xgb_reg_alpha': 4.388330503091163, 'xgb_reg_lambda': 9.960653673737617, 'percentile': 68}. Best is trial 16 with value: 0.8803304472809701.\n",
      "[I 2024-07-20 12:51:48,985] Trial 20 finished with value: 0.8802563996747851 and parameters: {'numerical_strategy': 'median', 'with_centering': False, 'with_scaling': True, 'categorical_strategy': 'constant', 'smoothing': 40.36051062234293, 'min_samples_leaf': 17, 'clf': 'XGBoost', 'xgb_max_depth': 9, 'xgb_learning_rate': 0.26001404934161754, 'xgb_n_estimators': 202, 'xgb_min_child_weight': 6, 'xgb_subsample': 0.9405646917693866, 'xgb_colsample_bytree': 0.5144386787709158, 'xgb_reg_alpha': 7.02259740840824, 'xgb_reg_lambda': 2.8553943595109166, 'percentile': 90}. Best is trial 16 with value: 0.8803304472809701.\n",
      "[I 2024-07-20 12:54:49,673] Trial 21 finished with value: 0.8678151527205684 and parameters: {'numerical_strategy': 'median', 'with_centering': False, 'with_scaling': True, 'categorical_strategy': 'constant', 'smoothing': 36.107356004486995, 'min_samples_leaf': 11, 'clf': 'XGBoost', 'xgb_max_depth': 9, 'xgb_learning_rate': 0.2643761889793998, 'xgb_n_estimators': 169, 'xgb_min_child_weight': 6, 'xgb_subsample': 0.9466173908758369, 'xgb_colsample_bytree': 0.5261561066828009, 'xgb_reg_alpha': 7.529556159958221, 'xgb_reg_lambda': 2.617220470839117, 'percentile': 88}. Best is trial 16 with value: 0.8803304472809701.\n",
      "[I 2024-07-20 12:57:51,480] Trial 22 finished with value: 0.8801903670627709 and parameters: {'numerical_strategy': 'median', 'with_centering': False, 'with_scaling': True, 'categorical_strategy': 'constant', 'smoothing': 9.11863284316027, 'min_samples_leaf': 4, 'clf': 'XGBoost', 'xgb_max_depth': 9, 'xgb_learning_rate': 0.2527076170909649, 'xgb_n_estimators': 181, 'xgb_min_child_weight': 7, 'xgb_subsample': 0.9480028547650655, 'xgb_colsample_bytree': 0.6207833901694704, 'xgb_reg_alpha': 7.036704414411435, 'xgb_reg_lambda': 3.324493192352094, 'percentile': 92}. Best is trial 16 with value: 0.8803304472809701.\n",
      "[I 2024-07-20 13:00:52,972] Trial 23 finished with value: 0.8675755134247892 and parameters: {'numerical_strategy': 'median', 'with_centering': False, 'with_scaling': True, 'categorical_strategy': 'constant', 'smoothing': 6.6072698149494995, 'min_samples_leaf': 16, 'clf': 'XGBoost', 'xgb_max_depth': 8, 'xgb_learning_rate': 0.1894684497822661, 'xgb_n_estimators': 195, 'xgb_min_child_weight': 5, 'xgb_subsample': 0.8161976510008326, 'xgb_colsample_bytree': 0.6419712398043976, 'xgb_reg_alpha': 8.43243636100797, 'xgb_reg_lambda': 3.1671026563046354, 'percentile': 78}. Best is trial 16 with value: 0.8803304472809701.\n",
      "[I 2024-07-20 13:04:27,086] Trial 24 finished with value: 0.8805687408908682 and parameters: {'numerical_strategy': 'median', 'with_centering': False, 'with_scaling': True, 'categorical_strategy': 'constant', 'smoothing': 22.71602308255698, 'min_samples_leaf': 26, 'clf': 'XGBoost', 'xgb_max_depth': 9, 'xgb_learning_rate': 0.2570236380980364, 'xgb_n_estimators': 379, 'xgb_min_child_weight': 7, 'xgb_subsample': 0.9034556837727007, 'xgb_colsample_bytree': 0.5043125948856921, 'xgb_reg_alpha': 6.437758025125069, 'xgb_reg_lambda': 0.9310201217343881, 'percentile': 92}. Best is trial 24 with value: 0.8805687408908682.\n",
      "[I 2024-07-20 13:07:52,516] Trial 25 finished with value: 0.8646075428577839 and parameters: {'numerical_strategy': 'median', 'with_centering': False, 'with_scaling': True, 'categorical_strategy': 'constant', 'smoothing': 27.057103355371154, 'min_samples_leaf': 26, 'clf': 'XGBoost', 'xgb_max_depth': 9, 'xgb_learning_rate': 0.2588773738147979, 'xgb_n_estimators': 405, 'xgb_min_child_weight': 7, 'xgb_subsample': 0.6832213725924531, 'xgb_colsample_bytree': 0.5026498986845818, 'xgb_reg_alpha': 8.781986305488847, 'xgb_reg_lambda': 0.21546674459445558, 'percentile': 67}. Best is trial 24 with value: 0.8805687408908682.\n",
      "[I 2024-07-20 13:11:31,294] Trial 26 finished with value: 0.8616321693319273 and parameters: {'numerical_strategy': 'median', 'with_centering': False, 'with_scaling': False, 'categorical_strategy': 'most_frequent', 'smoothing': 21.377746591965874, 'min_samples_leaf': 30, 'clf': 'Catboost', 'cat_iterations': 156, 'cat_learning_rate': 0.010838335155363338, 'cat_depth': 10, 'cat_l2_leaf_reg': 23, 'cat_border_count': 28, 'percentile': 91}. Best is trial 24 with value: 0.8805687408908682.\n",
      "[I 2024-07-20 13:14:54,027] Trial 27 finished with value: 0.8679099270942936 and parameters: {'numerical_strategy': 'constant', 'with_centering': False, 'with_scaling': True, 'categorical_strategy': 'constant', 'smoothing': 38.52094889907959, 'min_samples_leaf': 40, 'clf': 'XGBoost', 'xgb_max_depth': 7, 'xgb_learning_rate': 0.21594350291911132, 'xgb_n_estimators': 480, 'xgb_min_child_weight': 6, 'xgb_subsample': 0.8876838777212865, 'xgb_colsample_bytree': 0.569873756740212, 'xgb_reg_alpha': 5.769430707192578, 'xgb_reg_lambda': 0.059841999020591174, 'percentile': 79}. Best is trial 24 with value: 0.8805687408908682.\n",
      "[I 2024-07-20 13:18:09,963] Trial 28 finished with value: 0.8801990995308436 and parameters: {'numerical_strategy': 'most_frequent', 'with_centering': False, 'with_scaling': True, 'categorical_strategy': 'constant', 'smoothing': 14.295698427360623, 'min_samples_leaf': 22, 'clf': 'XGBoost', 'xgb_max_depth': 8, 'xgb_learning_rate': 0.15916558581401546, 'xgb_n_estimators': 355, 'xgb_min_child_weight': 5, 'xgb_subsample': 0.814875624544006, 'xgb_colsample_bytree': 0.7004690647412771, 'xgb_reg_alpha': 6.295655665132028, 'xgb_reg_lambda': 1.3118446479135146, 'percentile': 92}. Best is trial 24 with value: 0.8805687408908682.\n",
      "[I 2024-07-20 13:21:24,182] Trial 29 finished with value: 0.8480791549761906 and parameters: {'numerical_strategy': 'most_frequent', 'with_centering': False, 'with_scaling': False, 'categorical_strategy': 'constant', 'smoothing': 26.359509682540846, 'min_samples_leaf': 19, 'clf': 'XGBoost', 'xgb_max_depth': 9, 'xgb_learning_rate': 0.2650573913177389, 'xgb_n_estimators': 527, 'xgb_min_child_weight': 8, 'xgb_subsample': 0.9071803473365081, 'xgb_colsample_bytree': 0.5275667749737172, 'xgb_reg_alpha': 4.1124299800400355, 'xgb_reg_lambda': 1.1847700940828112, 'percentile': 45}. Best is trial 24 with value: 0.8805687408908682.\n"
     ]
    },
    {
     "name": "stdout",
     "output_type": "stream",
     "text": [
      "Best trial:\n",
      "  Value:  0.8805687408908682\n",
      "  Params: \n",
      "    numerical_strategy: median\n",
      "    with_centering: False\n",
      "    with_scaling: True\n",
      "    categorical_strategy: constant\n",
      "    smoothing: 22.71602308255698\n",
      "    min_samples_leaf: 26\n",
      "    clf: XGBoost\n",
      "    xgb_max_depth: 9\n",
      "    xgb_learning_rate: 0.2570236380980364\n",
      "    xgb_n_estimators: 379\n",
      "    xgb_min_child_weight: 7\n",
      "    xgb_subsample: 0.9034556837727007\n",
      "    xgb_colsample_bytree: 0.5043125948856921\n",
      "    xgb_reg_alpha: 6.437758025125069\n",
      "    xgb_reg_lambda: 0.9310201217343881\n",
      "    percentile: 92\n"
     ]
    },
    {
     "data": {
      "text/plain": [
       "['/data_analysis/Insurance/out/best_model.joblib']"
      ]
     },
     "execution_count": 3,
     "metadata": {},
     "output_type": "execute_result"
    }
   ],
   "source": [
    "def objective(trial):\n",
    "    # Call the function to instantiate the model\n",
    "    model = instantiate_model(trial, num_cols, cat_cols, datetime_columns=None, string_columns=None)\n",
    "\n",
    "    X = train.drop(target, axis=1)\n",
    "    y = train[target]\n",
    "\n",
    "    skf = StratifiedKFold(n_splits=4, shuffle=True, random_state=42)\n",
    "\n",
    "    f1_scores = []\n",
    "\n",
    "    for train_index, val_index in skf.split(X, y):\n",
    "        X_train, X_val = X.iloc[train_index], X.iloc[val_index]\n",
    "        y_train, y_val = y.iloc[train_index], y.iloc[val_index]\n",
    "\n",
    "        # Fit the model\n",
    "        model.fit(X_train, y_train)\n",
    "\n",
    "        # Predict on validation set\n",
    "        y_pred = model.predict_proba(X_val)\n",
    "\n",
    "        # Calculate F1 score\n",
    "        f1 = roc_auc_score(y_val, y_pred[:, 1])\n",
    "        f1_scores.append(f1)\n",
    "\n",
    "    return sum(f1_scores)/len(f1_scores)\n",
    "\n",
    "# Create a study object and optimize the objective function\n",
    "study = optuna.create_study(direction='maximize')\n",
    "study.optimize(objective, n_trials=30)  # You can adjust the number of trials\n",
    "\n",
    "# Print the best parameters and best value\n",
    "print('Best trial:')\n",
    "trial = study.best_trial\n",
    "print('  Value: ', trial.value)\n",
    "print('  Params: ')\n",
    "for key, value in trial.params.items():\n",
    "    print('    {}: {}'.format(key, value))\n",
    "\n",
    "# You can now use the best parameters to create your final model\n",
    "best_model = instantiate_model(trial, num_cols, cat_cols, datetime_columns=None, string_columns=None)\n",
    "\n",
    "model_filename = os.path.join(PROJ, 'out', 'best_model.joblib')\n",
    "joblib.dump(best_model, model_filename)"
   ]
  }
 ],
 "metadata": {
  "kernelspec": {
   "display_name": "Python 3",
   "language": "python",
   "name": "python3"
  },
  "language_info": {
   "codemirror_mode": {
    "name": "ipython",
    "version": 3
   },
   "file_extension": ".py",
   "mimetype": "text/x-python",
   "name": "python",
   "nbconvert_exporter": "python",
   "pygments_lexer": "ipython3",
   "version": "3.11.9"
  }
 },
 "nbformat": 4,
 "nbformat_minor": 2
}
